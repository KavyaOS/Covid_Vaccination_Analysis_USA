{
 "cells": [
  {
   "cell_type": "code",
   "execution_count": null,
   "metadata": {},
   "outputs": [],
   "source": [
    "import pandas as pd\n",
    "import numpy as np\n",
    "import matplotlib.pyplot as plt \n",
    "import seaborn as sns\n",
    "import datetime"
   ]
  },
  {
   "cell_type": "code",
   "execution_count": null,
   "metadata": {},
   "outputs": [],
   "source": [
    "covid_confirmed_df_raw = pd.read_csv('https://usafactsstatic.blob.core.windows.net/public/data/covid-19/covid_confirmed_usafacts.csv')\n",
    "covid_deaths_df_raw = pd.read_csv('https://usafactsstatic.blob.core.windows.net/public/data/covid-19/covid_deaths_usafacts.csv')\n",
    "usa_population_df_raw = pd.read_csv('https://usafactsstatic.blob.core.windows.net/public/data/covid-19/covid_county_population_usafacts.csv')\n",
    "us_state_vaccinations_df_raw = pd.read_csv('https://raw.githubusercontent.com/owid/covid-19-data/master/public/data/vaccinations/us_state_vaccinations.csv')"
   ]
  },
  {
   "cell_type": "code",
   "execution_count": null,
   "metadata": {},
   "outputs": [],
   "source": [
    "us_state_abbrev = {\n",
    "    'AL': 'Alabama', 'AK': 'Alaska', 'AS': 'American Samoa', 'AZ': 'Arizona', 'AR': 'Arkansas', 'CA': 'California', 'CO':'Colorado',\n",
    "    'CT': 'Connecticut', 'DE': 'Delaware', 'DC': 'District of Columbia', 'FL': 'Florida', 'GA': 'Georgia', 'GU': 'Guam', 'HI': 'Hawaii',\n",
    "    'ID': 'Idaho', 'IL': 'Illinois', 'IN': 'Indiana', 'IA': 'Iowa', 'KS': 'Kansas', 'KY': 'Kentucky', 'LA': 'Louisiana', 'ME': 'Maine',\n",
    "    'MD': 'Maryland', 'MA': 'Massachusetts', 'MI': 'Michigan', 'MN': 'Minnesota', 'MS': 'Mississippi', 'MO': 'Missouri', 'MT': 'Montana',\n",
    "    'NE': 'Nebraska', 'NV': 'Nevada', 'NH': 'New Hampshire', 'NJ': 'New Jersey', 'NM': 'New Mexico', 'NY': 'New York State', 'NC': 'North Carolina',\n",
    "    'ND': 'North Dakota', 'MP': 'Northern Mariana Islands', 'OH': 'Ohio', 'OK': 'Oklahoma', 'OR': 'Oregon', 'PA': 'Pennsylvania', 'PR': 'Puerto Rico',\n",
    "    'RI': 'Rhode Island', 'SC': 'South Carolina', 'SD': 'South Dakota', 'TN': 'Tennessee', 'TX': 'Texas', 'UT': 'Utah', 'VT': 'Vermont',\n",
    "    'VI': 'Virgin Islands', 'VA': 'Virginia', 'WA': 'Washington', 'WV': 'West Virginia', 'WI': 'Wisconsin', 'WY': 'Wyoming' \n",
    "}"
   ]
  },
  {
   "cell_type": "code",
   "execution_count": null,
   "metadata": {},
   "outputs": [],
   "source": [
    "'''Cleaning the data'''\n",
    "covid_confirmed_df = covid_confirmed_df_raw [covid_confirmed_df_raw['countyFIPS']>0]\n",
    "covid_deaths_df = covid_deaths_df_raw [covid_deaths_df_raw['countyFIPS']>0]\n",
    "usa_population_df = usa_population_df_raw [usa_population_df_raw['population']>0]\n",
    "us_state_vaccinations_df = us_state_vaccinations_df_raw.fillna(axis=0, method='ffill') # handling empty slots by filling previous day data\n",
    "\n",
    "'''Retaining some lists that are useful in further questions'''\n",
    "union_territories = ['American Samoa', 'Guam', 'Northern Mariana Islands', 'Puerto Rico', 'Virgin Islands', 'Republic of Palau', 'Federated States of Micronesia', 'Marshall Islands']\n",
    "\n",
    "usa_population_usefacts_df = usa_population_df.copy()\n",
    "usa_population_usefacts_df['state_abbrev'] = usa_population_usefacts_df['State'].map(us_state_abbrev)\n",
    "us_states = usa_population_usefacts_df['state_abbrev'].unique()\n",
    "usa_population_df = usa_population_usefacts_df.copy()\n",
    "\n",
    "special_group = us_state_vaccinations_df[~us_state_vaccinations_df['location'].isin(union_territories)]\n",
    "special_group = special_group[~special_group['location'].isin(us_states)]\n",
    "special_group = special_group[special_group['location']!='United States']\n",
    "special_group = special_group['location'].unique()\n",
    "\n",
    "dc = 'District of Columbia'\n",
    "\n",
    "us_states = np.delete(us_states, np.where(us_states==dc))"
   ]
  },
  {
   "cell_type": "code",
   "execution_count": null,
   "metadata": {},
   "outputs": [],
   "source": [
    "def get_weekly_data(dataframe, first_sunday):\n",
    "    weekly_counts = dataframe.loc[:,first_sunday::7]\n",
    "    weekly_counts.columns = pd.to_datetime(weekly_counts.columns) #to change datatype of dates from string to datetime\n",
    "    weekly_counts.columns = weekly_counts.columns.strftime('%Y/%m/%d')\n",
    "    return weekly_counts"
   ]
  },
  {
   "cell_type": "code",
   "execution_count": null,
   "metadata": {},
   "outputs": [],
   "source": [
    "def get_people_immune():\n",
    "    first_sunday = '2020-01-26'\n",
    "    covid_cases_df = get_weekly_data(covid_confirmed_df, first_sunday)\n",
    "    covid_death_df = get_weekly_data(covid_deaths_df, first_sunday)\n",
    "    people_immune = covid_cases_df - covid_death_df\n",
    "    return people_immune"
   ]
  },
  {
   "cell_type": "code",
   "execution_count": null,
   "metadata": {},
   "outputs": [],
   "source": [
    "def get_vaccination_data_for_states(dataframe):\n",
    "    vacc_value_df = dataframe[dataframe['location']!='United States']\n",
    "    vacc_value_df = vacc_value_df[~vacc_value_df['location'].isin(special_group)]\n",
    "    vacc_value_df = vacc_value_df[~vacc_value_df['location'].isin(union_territories)]\n",
    "    return vacc_value_df"
   ]
  },
  {
   "cell_type": "code",
   "execution_count": null,
   "metadata": {},
   "outputs": [],
   "source": [
    "def plot(dataframe):\n",
    "    plt.figure(figsize=(20,8))\n",
    "    plt.xticks(rotation=70)\n",
    "    sns.lineplot(data=dataframe)"
   ]
  },
  {
   "cell_type": "markdown",
   "metadata": {},
   "source": [
    "# Q2.The vaccination data is reported by the entire county, state, US territory, and various groups like the department of defense, long term care and others. Presumably the US data includes the state data and the special group data but not the US territory data. Is the US territory data included in the US totals. Justify your answer."
   ]
  },
  {
   "cell_type": "code",
   "execution_count": null,
   "metadata": {
    "scrolled": true
   },
   "outputs": [],
   "source": [
    "us_state_vaccinations_total_df = us_state_vaccinations_df.groupby(['location']).tail(1)\n",
    "\n",
    "united_states_count_df = us_state_vaccinations_total_df[us_state_vaccinations_total_df['location']=='United States']\n",
    "\n",
    "only_states_df = get_vaccination_data_for_states(us_state_vaccinations_total_df)\n",
    "\n",
    "only_ut = us_state_vaccinations_total_df[us_state_vaccinations_total_df['location'].isin(union_territories)]\n",
    "only_sg = us_state_vaccinations_total_df[us_state_vaccinations_total_df['location'].isin(special_group)]\n",
    "\n",
    "total_vaccinations_usa_states = only_states_df['total_distributed'].sum()\n",
    "us_totals = united_states_count_df['total_distributed'].to_string(index=False)\n",
    "\n",
    "print(\"Total Vaccination distributed over all states in USA including District of Columbia: {}\".format(total_vaccinations_usa_states))\n",
    "print(\"Total Vaccination distributed value for us_totals or location mentioned as United States in vaccination data: {}\".format(us_totals))"
   ]
  },
  {
   "cell_type": "code",
   "execution_count": null,
   "metadata": {},
   "outputs": [],
   "source": [
    "# state data with union territory data including DC\n",
    "states_with_ut_and_dc = only_ut['total_distributed'].sum()+total_vaccinations_usa_states\n",
    "states_with_ut_and_dc"
   ]
  },
  {
   "cell_type": "code",
   "execution_count": null,
   "metadata": {},
   "outputs": [],
   "source": [
    "# state data with special group data including DC\n",
    "states_with_sg_and_dc = only_sg['total_distributed'].sum()+total_vaccinations_usa_states\n",
    "states_with_sg_and_dc"
   ]
  },
  {
   "cell_type": "code",
   "execution_count": null,
   "metadata": {},
   "outputs": [],
   "source": [
    "only_states_df = only_states_df[only_states_df['location']!=dc]\n",
    "total_vaccinations_usa_states = only_states_df['total_distributed'].sum()\n",
    "\n",
    "# state data with union territory data excluding DC\n",
    "states_with_ut_without_dc = only_ut['total_distributed'].sum()+total_vaccinations_usa_states\n",
    "states_with_ut_without_dc"
   ]
  },
  {
   "cell_type": "code",
   "execution_count": null,
   "metadata": {},
   "outputs": [],
   "source": [
    "# state data with special group data excluding DC\n",
    "states_with_sg_without_dc = only_sg['total_distributed'].sum()+total_vaccinations_usa_states\n",
    "states_with_sg_without_dc"
   ]
  },
  {
   "cell_type": "markdown",
   "metadata": {},
   "source": [
    "Checking \"total_distributed\" column as it says that it is cumulative counts of COVID-19 vaccine doses recorded as shipped in CDC's Vaccine Tracking System.\n",
    "\n",
    "According to certain combinations tried above, we can conclude that us_totals include count of vaccinations of all different states including \"District of Columbia\" and union territories, but it does not include any special group count."
   ]
  },
  {
   "cell_type": "markdown",
   "metadata": {},
   "source": [
    "# Q3.We would like to compute the percent of the population in each state that has been fully vaccinated. Presumably the data reported got the various groups is not included in the individual state data. If we distributed the number of people fully vaccinated in those groups to the states proportionally by population how much would that change the percent of people vaccinated in each state?"
   ]
  },
  {
   "cell_type": "code",
   "execution_count": null,
   "metadata": {},
   "outputs": [],
   "source": [
    "statewise_population_usa = usa_population_df.groupby(['state_abbrev']).sum(['population']).drop(['countyFIPS'], axis=1).reset_index()\n",
    "\n",
    "us_state_vaccinations_total = us_state_vaccinations_df.groupby(['location']).tail(1)\n",
    "only_states_vacc_df = get_vaccination_data_for_states(us_state_vaccinations_total)\n",
    "only_states_vacc_df = only_states_vacc_df[only_states_vacc_df['location']!=dc]\n",
    "\n",
    "special_group_vacc_df = us_state_vaccinations_df[us_state_vaccinations_df['location'].isin(special_group)]\n",
    "special_group_vacc_df = special_group_vacc_df.groupby(['location']).tail(1)\n",
    "\n",
    "ppl_fully_vacc_spc_group = special_group_vacc_df['people_fully_vaccinated'].sum()\n",
    "\n",
    "total_population_usa = statewise_population_usa['population'].sum()\n",
    "\n",
    "statewise_pop_vacc_df = pd.merge(only_states_vacc_df, statewise_population_usa, left_on='location', right_on='state_abbrev', how='inner')\n",
    "\n",
    "Q3_final_df = statewise_pop_vacc_df[['date','location','people_fully_vaccinated','people_fully_vaccinated_per_hundred','population']]\n",
    "Q3_final_df_copy = Q3_final_df.copy()\n",
    "Q3_final_df_copy['change'] = (Q3_final_df_copy.loc[:,'population'].div(total_population_usa)).mul(ppl_fully_vacc_spc_group)\n",
    "Q3_final_df_copy['new_ppl_vacc_per_100'] = ((Q3_final_df_copy.loc[:,'change']+Q3_final_df_copy.loc[:,'people_fully_vaccinated']).div(Q3_final_df_copy.loc[:,'population'])).mul(100)\n",
    "Q3_final_df_copy['%change'] = Q3_final_df_copy['new_ppl_vacc_per_100'] - Q3_final_df_copy['people_fully_vaccinated_per_hundred']\n",
    "Q3_final_df = Q3_final_df_copy\n",
    "\n",
    "display(Q3_final_df)"
   ]
  },
  {
   "cell_type": "markdown",
   "metadata": {},
   "source": [
    "# Q4. Produce a chart or table showing the percent of people in each state that have been fully vaccinated. Sort the data by the percent of people vaccinated. You notebook should download the dataset so when it is run we get the most recent data."
   ]
  },
  {
   "cell_type": "code",
   "execution_count": null,
   "metadata": {
    "scrolled": true
   },
   "outputs": [],
   "source": [
    "us_pop_vacc_df = statewise_pop_vacc_df[['location','people_fully_vaccinated_per_hundred']]\n",
    "us_pop_vacc_df = us_pop_vacc_df.rename(columns={'people_fully_vaccinated_per_hundred':'%_people_vaccinated'})\n",
    "us_pop_vacc_df = us_pop_vacc_df[['location','%_people_vaccinated']].set_index('location').sort_values(by=['%_people_vaccinated'], ascending=False)\n",
    "\n",
    "display(us_pop_vacc_df)"
   ]
  },
  {
   "cell_type": "markdown",
   "metadata": {},
   "source": [
    "# Q5.We want to see the progression from the start of the pandemic to now the percent of people that have some immunity in the US. Produce a plot of weekly data that contains three lines. One showing the the percent of the living people have have or had covid. One showing the the percent of people that have had at least one covid vaccine shot. The third line showing the sum of the two to estimate the number of people that have some immunity. Over time sum will be an over estimate as people who had covid get a vaccine shot. As in #4 the notebook should download the data to up-to-date results."
   ]
  },
  {
   "cell_type": "code",
   "execution_count": null,
   "metadata": {},
   "outputs": [],
   "source": [
    "people_immune = get_people_immune()\n",
    "dates = people_immune.columns\n",
    "\n",
    "vacc_value_df = get_vaccination_data_for_states(us_state_vaccinations_df)\n",
    "\n",
    "vacc_value_df = vacc_value_df.groupby(['date']).sum('people_vaccinated').reset_index()\n",
    "vacc_value_df = vacc_value_df[['date','people_vaccinated']]\n",
    "vacc_value_df = vacc_value_df.set_index('date').transpose()\n",
    "\n",
    "first_sunday = '2021-01-17'\n",
    "vacc_value_df = get_weekly_data(vacc_value_df, first_sunday)\n",
    "vacc_value_df = vacc_value_df.transpose()\n",
    "\n",
    "total_people_immune = people_immune.sum().to_frame().rename_axis(\"week\").reset_index()\n",
    "total_people_immune = total_people_immune.rename(columns={0:\"people_immune\"})\n",
    "\n",
    "vacc_value_df = vacc_value_df.reindex(dates, fill_value=0).rename_axis(\"week\").reset_index()\n",
    "\n",
    "covid_immunity_df = total_people_immune.merge(vacc_value_df, on='week')\n",
    "covid_immunity_df['sum_immune'] = covid_immunity_df['people_immune'] + covid_immunity_df['people_vaccinated']\n",
    "covid_immunity_df = covid_immunity_df.set_index('week')\n",
    "covid_immunity_df_copy = covid_immunity_df.copy()\n",
    "covid_immunity_df = (covid_immunity_df_copy.div(total_population_usa)).mul(100)\n",
    "covid_immunity_df = covid_immunity_df.rename(columns={\"people_immune\":\"%_people_immune_recovered\", \"people_vaccinated\":\"%_people_vaccinated\",\"sum_immune\":\"%_total_immunity\"})\n",
    "\n",
    "display(covid_immunity_df)\n",
    "plot(covid_immunity_df)"
   ]
  },
  {
   "cell_type": "markdown",
   "metadata": {},
   "source": [
    "# Q6. Produce the same plot as in #5 for the states. You should have a function that takes the two letter abbreviation for the state and produces the plot for the state."
   ]
  },
  {
   "cell_type": "code",
   "execution_count": null,
   "metadata": {},
   "outputs": [],
   "source": [
    "def statewise_immunity_plot_state(state_abbrev, vacc_value_df):\n",
    "    first_sunday = '2021-01-17'\n",
    "    state = us_state_abbrev[state_abbrev]\n",
    "    state_population = statewise_pop_vacc_df[statewise_pop_vacc_df['location']==state].population.sum() #To reatin population of required state\n",
    "\n",
    "    vacc_value_df = vacc_value_df[vacc_value_df['location']==state].set_index('date')\n",
    "    vacc_value_df = vacc_value_df[['people_vaccinated']].transpose()\n",
    "    vacc_value_df = get_weekly_data(vacc_value_df, first_sunday)\n",
    "    vacc_value_df = vacc_value_df.transpose().reindex(dates, fill_value=0).reset_index()\n",
    "    vacc_value_df = vacc_value_df.rename(columns={'index':\"week\"})\n",
    "\n",
    "    people_immune = get_people_immune()\n",
    "    states = covid_confirmed_df[['State']]\n",
    "    people_immune['State'] = states['State']\n",
    "    people_immune = people_immune.groupby(['State']).sum()\n",
    "    people_immune = people_immune.loc[state_abbrev,:].transpose().reset_index()\n",
    "    people_immune = people_immune.rename(columns={'index':'week', state_abbrev:'people_immune_to_covid'})\n",
    "\n",
    "    covid_immunity_df_state = people_immune.merge(vacc_value_df, on='week')\n",
    "    covid_immunity_df_state['sum_immunity'] = covid_immunity_df_state['people_vaccinated'] + covid_immunity_df_state['people_immune_to_covid']\n",
    "    covid_immunity_df_state = covid_immunity_df_state.set_index('week')\n",
    "    covid_immunity_df_copy = covid_immunity_df_state.copy()\n",
    "    covid_immunity_df_state = (covid_immunity_df_copy.div(state_population)).mul(100)\n",
    "    covid_immunity_df_state = covid_immunity_df_state.rename(columns={\"people_immune_to_covid\":\"%_people_immune\", \"people_vaccinated\":\"%_people_vaccinated\",\"sum_immunity\":\"%_total_immunity\"})\n",
    "    display(covid_immunity_df_state)\n",
    "    plot(covid_immunity_df_state)"
   ]
  },
  {
   "cell_type": "code",
   "execution_count": null,
   "metadata": {},
   "outputs": [],
   "source": [
    "def statewise_immunity_plot(state_abbrev):\n",
    "    vacc_value_df = get_vaccination_data_for_states(us_state_vaccinations_df)\n",
    "    statewise_immunity_plot_state(state_abbrev, vacc_value_df)"
   ]
  },
  {
   "cell_type": "code",
   "execution_count": null,
   "metadata": {},
   "outputs": [],
   "source": [
    "statewise_immunity_plot('UT')"
   ]
  },
  {
   "cell_type": "markdown",
   "metadata": {},
   "source": [
    "# Q1.In us_state_vaccinations.csv there are some gaps in the data. Will those gaps affect the results of the following questions. If no why not. If yes explain the affect."
   ]
  },
  {
   "cell_type": "markdown",
   "metadata": {},
   "source": [
    "Gaps would have affected if we dropped the location which had null values. \n",
    "This effects questions 2 through 4 if sunday date has empty values in it, as we are taking week counts on every sunday's.\n",
    "For question 5 and 6, it would have affected if present day value is empty.\n",
    "\n",
    "We could overcome this issue by filling those gaps with previous date's data and this resolved our problem as the data is cumulative.\n",
    "\n",
    "us_state_vaccinations_df_raw is vaccination dataframe before forward fill.\n",
    "us_state_vaccinations_df is vaccination dataframe after forward fill.\n",
    "\n",
    "All the above questions used us_state_vaccinations_df as a vaccination dataframe.\n",
    "\n",
    "Let's check how us_state_vaccinations_df_raw would have affected the output of Q6 for example,"
   ]
  },
  {
   "cell_type": "code",
   "execution_count": null,
   "metadata": {},
   "outputs": [],
   "source": [
    "def statewise_immunity_plot_raw(state_abbrev):\n",
    "    vacc_value_df = get_vaccination_data_for_states(us_state_vaccinations_df_raw)\n",
    "    statewise_immunity_plot_state(state_abbrev, vacc_value_df)"
   ]
  },
  {
   "cell_type": "code",
   "execution_count": null,
   "metadata": {},
   "outputs": [],
   "source": [
    "statewise_immunity_plot_raw('UT')"
   ]
  }
 ],
 "metadata": {
  "kernelspec": {
   "display_name": "Python 3",
   "language": "python",
   "name": "python3"
  },
  "language_info": {
   "codemirror_mode": {
    "name": "ipython",
    "version": 3
   },
   "file_extension": ".py",
   "mimetype": "text/x-python",
   "name": "python",
   "nbconvert_exporter": "python",
   "pygments_lexer": "ipython3",
   "version": "3.8.5"
  }
 },
 "nbformat": 4,
 "nbformat_minor": 4
}
